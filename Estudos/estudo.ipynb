{
 "cells": [
  {
   "cell_type": "markdown",
   "metadata": {},
   "source": [
    "# Anotações projeto de interface"
   ]
  },
  {
   "cell_type": "markdown",
   "metadata": {},
   "source": [
    "### Estrutura incial: o projeto será estruturado da seguinte forma"
   ]
  },
  {
   "cell_type": "code",
   "execution_count": null,
   "metadata": {
    "vscode": {
     "languageId": "html"
    }
   },
   "outputs": [],
   "source": [
    "<!DOCTYPE html>\n",
    "<html>\n",
    "    <head>\n",
    "    </head>\n",
    "    <body>\n",
    "    </body>\n",
    "</html>"
   ]
  },
  {
   "cell_type": "markdown",
   "metadata": {},
   "source": [
    "### Principais tags html parte 1"
   ]
  },
  {
   "cell_type": "code",
   "execution_count": null,
   "metadata": {
    "vscode": {
     "languageId": "html"
    }
   },
   "outputs": [],
   "source": [
    "<a href=\"endereço\"></a>\n",
    "<p></</p> <!--Parágrafo-->\n",
    "<h1</h1>...<h6></h6> <!--Título-->\n",
    "<b></b> <!--Negrito-->\n",
    "<i></i> <!--Itálico-->\n",
    "<u></u> <!--Sublinhado-->\n",
    "<strong></strong> <!--Negrito (maior alocação de memória)-->\n",
    "<em></em> <!--Uma pessoa ou software lendo o texto pronunciaria as palavras em itálico com uma ênfase.-->\n",
    "<abbr title=\"League of Legends\">Lol</abbr> <!--Realiza -->"
   ]
  }
 ],
 "metadata": {
  "language_info": {
   "name": "python"
  }
 },
 "nbformat": 4,
 "nbformat_minor": 2
}
