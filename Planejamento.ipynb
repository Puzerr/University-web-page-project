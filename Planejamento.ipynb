{
 "cells": [
  {
   "cell_type": "markdown",
   "metadata": {},
   "source": [
    "# League of Legends Wikipedia\n",
    "---   \n",
    "**Missão:** criar uma biblioteca online para a realização de consulltas acerca do jogo League of Legends.\n",
    "---   \n"
   ]
  }
 ],
 "metadata": {
  "language_info": {
   "name": "python"
  }
 },
 "nbformat": 4,
 "nbformat_minor": 2
}
