{
 "cells": [
  {
   "cell_type": "markdown",
   "metadata": {},
   "source": [
    "# Anotações projeto de interface"
   ]
  },
  {
   "cell_type": "markdown",
   "metadata": {},
   "source": [
    "### Estrutura incial: o projeto será estruturado da seguinte forma"
   ]
  },
  {
   "cell_type": "code",
   "execution_count": null,
   "metadata": {
    "vscode": {
     "languageId": "html"
    }
   },
   "outputs": [],
   "source": [
    "<!DOCTYPE html>\n",
    "<html>\n",
    "    <head>\n",
    "    </head>\n",
    "    <body>\n",
    "    </body>\n",
    "</html>"
   ]
  },
  {
   "cell_type": "markdown",
   "metadata": {},
   "source": [
    "### Principais tags html parte 1"
   ]
  },
  {
   "cell_type": "code",
   "execution_count": null,
   "metadata": {
    "vscode": {
     "languageId": "html"
    }
   },
   "outputs": [],
   "source": [
    "<tag classe=\"atributo\"></tag> <!--Componentes de uma tag qualquer-->\n",
    "<a href=\"endereço\" target=\"_self/_blank/parent/_top/_unfencedTop\"></a> <!--Adiciona um link-->\n",
    "<p></</p> <!--Parágrafo-->\n",
    "<h1</h1>...<h6></h6> <!--Título (hierarquias)-->\n",
    "<b></b> <!--Negrito-->\n",
    "<i></i> <!--Itálico-->\n",
    "<u></u> <!--Sublinhado-->\n",
    "<strong></strong> <!--Negrito (maior alocação de memória)-->\n",
    "<em></em> <!--Uma pessoa ou software lendo o texto pronunciaria as palavras em itálico com uma ênfase.-->\n",
    "<abbr title=\"League of Legends\">Lol</abbr> <!--Realiza -->\n",
    "<br> <!--Quebra de linha-->\n",
    "<br /> <!--No react se usa com a barra, é uma boa prática-->\n",
    "<hr /> <!--Quebra de linha temática-->\n",
    "<small></small> <!--Frequentemente utilizado para notas de imagem/direitos autorais-->\n",
    "<pre></pre> <!--Feito para digitar código (respeita formatação)-->\n",
    "<code></code> <!--Feito para digitar código (não respeita formatação)-->\n",
    "<tag align=\"center/left/right/justify\"></tag> <!--alinha de forma brusca o elemento-->\n",
    "<ol type=\"1/a/A/i/I\" start=\"2 (poder ser 2 ou b,B\")\"></ol> <!--Lista ordenada-->\n",
    "<ul type=\"circle/square/disc\"></ul> <!--Lista NÃO ordenada-->\n",
    "<li></li> <!--Item da lista-->\n",
    "<img src=\"fonte/da/imagem.png\" alt=\"Texto alternativo\"> <!--Serve para inserir uma imagem-->\n",
    "<video> <source src=\"fonte/do/video.mp4\" type=\"video.mp4\">  </video> <!--video chama o video e source especifica de onde vem o video-->\n",
    "<table> <!--Corpo principal da tabela-->\n",
    "    <tr> <!--Significa 'Table row', que significa 'linha de tabela'-->\n",
    "        <th></th> <!--Significa 'Table header', que significa 'cabeçalho da tabela'-->\n",
    "        <td></td> <!--Significa 'Table data', que significa 'dados da tabela'-->\n",
    "    </tr> \n",
    "</table>\n",
    "<iframe src=\"\" width=\"\" height=\"\" frameborder=\"0\"></iframe> <!-- Representa um contexto de navegação aninhado, efetivamente incorporando outra página HTML para a página atual-->\n",
    "<form action=\"\"></form> <!--É uma seção do documento que contêm controle interativos para o envio de informação-->\n",
    "<input type=\"tipo do dado enviado\" size=\"tamanho para os lados apenas\" placeholder=\"\" maxlength=\"\"/> <!--É utilizado para entrada de informação-->\n",
    "<input type=\"reset\"> <!--Resetar o formulário-->\n",
    "<input type=\"submit\"> <!--Enviar informações-->\n",
    "<fieldset></fieldset> <!--É um tipo de formulário visível-->\n",
    "<legend>Título do fieldset</legend> <!--É o títuli do fieldset-->"
   ]
  }
 ],
 "metadata": {
  "language_info": {
   "name": "python"
  }
 },
 "nbformat": 4,
 "nbformat_minor": 2
}
