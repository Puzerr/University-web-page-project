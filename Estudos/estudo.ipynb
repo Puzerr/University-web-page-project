{
 "cells": [
  {
   "cell_type": "markdown",
   "metadata": {},
   "source": [
    "# Anotações projeto de interface"
   ]
  },
  {
   "cell_type": "markdown",
   "metadata": {},
   "source": [
    "### Estrutura incial: o projeto será estruturado da seguinte forma"
   ]
  },
  {
   "cell_type": "code",
   "execution_count": null,
   "metadata": {
    "vscode": {
     "languageId": "html"
    }
   },
   "outputs": [],
   "source": [
    "<!DOCTYPE html>\n",
    "<html>\n",
    "    <head>\n",
    "    </head>\n",
    "    <body>\n",
    "    </body>\n",
    "</html>"
   ]
  },
  {
   "cell_type": "markdown",
   "metadata": {},
   "source": [
    "### Principais tags html parte 1"
   ]
  },
  {
   "cell_type": "code",
   "execution_count": null,
   "metadata": {
    "vscode": {
     "languageId": "html"
    }
   },
   "outputs": [],
   "source": [
    "<tag classe=\"atributo\"></tag> <!--Componentes de uma tag qualquer-->\n",
    "<a href=\"endereço\" target=\"_self/_blank_parent/_top/_unfencedTop\"></a> <!--Adiciona um link-->\n",
    "<p></</p> <!--Parágrafo-->\n",
    "<h1</h1>...<h6></h6> <!--Título (hierarquias)-->\n",
    "<b></b> <!--Negrito-->\n",
    "<i></i> <!--Itálico-->\n",
    "<u></u> <!--Sublinhado-->\n",
    "<strong></strong> <!--Negrito (maior alocação de memória)-->\n",
    "<em></em> <!--Uma pessoa ou software lendo o texto pronunciaria as palavras em itálico com uma ênfase.-->\n",
    "<abbr title=\"League of Legends\">Lol</abbr> <!--Realiza -->\n",
    "<br> <!--Quebra de linha-->\n",
    "<br /> <!--No react se usa com a barra, é uma boa prática-->\n",
    "<hr /> <!--Quebra de linha temática-->\n",
    "<small></small> <!--Frequentemente utilizado para notas de imagem/direitos autorais-->\n",
    "<pre></pre> <!--Feito para digitar código (respeita formatação)-->\n",
    "<code></code> <!--Feito para digitar código (não respeita formatação)-->\n",
    "<tag align=\"center/left/right/justify\"></tag> <!--alinha de forma brusca o elemento-->\n",
    "<ol type=\"1/a/A/i/I\" start=\"2 (poder ser 2 ou b,B\")\"></ol> <!--Lista ordenada-->\n",
    "<ul type=\"circle/square/disc\"></ul> <!--Lista NÃO ordenada-->\n",
    "<li></li> <!--Item da lista-->\n"
   ]
  }
 ],
 "metadata": {
  "language_info": {
   "name": "python"
  }
 },
 "nbformat": 4,
 "nbformat_minor": 2
}
